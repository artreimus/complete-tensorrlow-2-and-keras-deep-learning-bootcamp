{
  "nbformat": 4,
  "nbformat_minor": 0,
  "metadata": {
    "colab": {
      "provenance": []
    },
    "kernelspec": {
      "name": "python3",
      "display_name": "Python 3"
    },
    "language_info": {
      "name": "python"
    }
  },
  "cells": [
    {
      "cell_type": "markdown",
      "source": [
        "# **Numpy**"
      ],
      "metadata": {
        "id": "0Mg_GQ-Urq2C"
      }
    },
    {
      "cell_type": "markdown",
      "source": [
        "Numpy is an open source numerical library used for working with mathematical functions with multi-dimensional array and matrix data structures. It is already installed in our environment and is very common in Data Science and Machine Learning."
      ],
      "metadata": {
        "id": "mT27DCoYr4Bi"
      }
    },
    {
      "cell_type": "markdown",
      "source": [
        "**Why use Numpys?** Numpy arrays use less memory than normal python list. A normal python list is a group of pointers to separate Python objects. A numpy array is designed to be an array of uniform values without using space for type pointers. Numpys can also read information faster than normal python and has lots of convenient broadcasting operations that can be performed across array dimensions."
      ],
      "metadata": {
        "id": "9b_IKKYWsPlV"
      }
    },
    {
      "cell_type": "markdown",
      "source": [
        "Topic: Creating Arrays.\n",
        "\n",
        "*   Converting existing objects to array\n",
        "*   Using numpy functions to generate arrays\n",
        "*   Creating arrays and matrices of random values\n",
        "*   Basic array attributes.\n",
        "\n"
      ],
      "metadata": {
        "id": "33YOl5SktGd8"
      }
    },
    {
      "cell_type": "code",
      "source": [
        "import numpy as np"
      ],
      "metadata": {
        "id": "9sLh7JrNsdJL"
      },
      "execution_count": null,
      "outputs": []
    },
    {
      "cell_type": "code",
      "execution_count": null,
      "metadata": {
        "id": "mQEuLcCSrhnE"
      },
      "outputs": [],
      "source": [
        "myList = [1, 2, 3]"
      ]
    },
    {
      "cell_type": "code",
      "source": [
        "np.array(myList)"
      ],
      "metadata": {
        "id": "clQz4WWLuB5r",
        "colab": {
          "base_uri": "https://localhost:8080/"
        },
        "outputId": "3a3ec3a6-ef69-4621-e7bf-a3468fecba56"
      },
      "execution_count": null,
      "outputs": [
        {
          "output_type": "execute_result",
          "data": {
            "text/plain": [
              "array([1, 2, 3])"
            ]
          },
          "metadata": {},
          "execution_count": 43
        }
      ]
    },
    {
      "cell_type": "code",
      "source": [
        "nested_list = [[1,2], [3,4], [5,6]]"
      ],
      "metadata": {
        "id": "YEtqWylUsWPz"
      },
      "execution_count": null,
      "outputs": []
    },
    {
      "cell_type": "code",
      "source": [
        "np.array(nested_list)"
      ],
      "metadata": {
        "id": "IhC59puKuL85",
        "colab": {
          "base_uri": "https://localhost:8080/"
        },
        "outputId": "0c1661e8-9c65-4094-e2b3-7259c3d32fe2"
      },
      "execution_count": null,
      "outputs": [
        {
          "output_type": "execute_result",
          "data": {
            "text/plain": [
              "array([[1, 2],\n",
              "       [3, 4],\n",
              "       [5, 6]])"
            ]
          },
          "metadata": {},
          "execution_count": 12
        }
      ]
    },
    {
      "cell_type": "code",
      "source": [
        "# Get 0-9\n",
        "np.arange(0, 10)"
      ],
      "metadata": {
        "id": "Ygfwr8WHuDp5",
        "colab": {
          "base_uri": "https://localhost:8080/"
        },
        "outputId": "80e7ffe1-4183-4e3d-b2d6-7499d004c671"
      },
      "execution_count": null,
      "outputs": [
        {
          "output_type": "execute_result",
          "data": {
            "text/plain": [
              "array([0, 1, 2, 3, 4, 5, 6, 7, 8, 9])"
            ]
          },
          "metadata": {},
          "execution_count": 15
        }
      ]
    },
    {
      "cell_type": "code",
      "source": [
        "# Get even numbers\n",
        "np.arange(0, 11, 2)"
      ],
      "metadata": {
        "colab": {
          "base_uri": "https://localhost:8080/"
        },
        "id": "XF2guc8pzVDt",
        "outputId": "bb60222c-3cb6-4f37-9921-71022f352012"
      },
      "execution_count": null,
      "outputs": [
        {
          "output_type": "execute_result",
          "data": {
            "text/plain": [
              "array([ 0,  2,  4,  6,  8, 10])"
            ]
          },
          "metadata": {},
          "execution_count": 18
        }
      ]
    },
    {
      "cell_type": "code",
      "source": [
        "# returns 3 zeros of type floating point\n",
        "np.zeros(3)"
      ],
      "metadata": {
        "colab": {
          "base_uri": "https://localhost:8080/"
        },
        "id": "iJPBmSsvzaRH",
        "outputId": "f7f78805-2f63-496a-de68-8ac9928ae13d"
      },
      "execution_count": null,
      "outputs": [
        {
          "output_type": "execute_result",
          "data": {
            "text/plain": [
              "array([0., 0., 0.])"
            ]
          },
          "metadata": {},
          "execution_count": 19
        }
      ]
    },
    {
      "cell_type": "code",
      "source": [],
      "metadata": {
        "id": "QVV3E7tkzxJd"
      },
      "execution_count": null,
      "outputs": []
    },
    {
      "cell_type": "code",
      "source": [
        "# returns 4x4 matrix of 0s\n",
        "np.zeros((4, 4))"
      ],
      "metadata": {
        "colab": {
          "base_uri": "https://localhost:8080/"
        },
        "id": "y9XNi4j-zxfv",
        "outputId": "11aba2f2-0550-4264-c574-9f601c82f91a"
      },
      "execution_count": null,
      "outputs": [
        {
          "output_type": "execute_result",
          "data": {
            "text/plain": [
              "array([[0., 0., 0., 0.],\n",
              "       [0., 0., 0., 0.],\n",
              "       [0., 0., 0., 0.],\n",
              "       [0., 0., 0., 0.]])"
            ]
          },
          "metadata": {},
          "execution_count": 20
        }
      ]
    },
    {
      "cell_type": "code",
      "source": [
        "# returns 4x10 matrix of 10s\n",
        "np.zeros((4,10))"
      ],
      "metadata": {
        "colab": {
          "base_uri": "https://localhost:8080/"
        },
        "id": "V0o2M_dLzxoO",
        "outputId": "b20947f9-b2bc-4f1e-b6f4-28871862362a"
      },
      "execution_count": null,
      "outputs": [
        {
          "output_type": "execute_result",
          "data": {
            "text/plain": [
              "array([[0., 0., 0., 0., 0., 0., 0., 0., 0., 0.],\n",
              "       [0., 0., 0., 0., 0., 0., 0., 0., 0., 0.],\n",
              "       [0., 0., 0., 0., 0., 0., 0., 0., 0., 0.],\n",
              "       [0., 0., 0., 0., 0., 0., 0., 0., 0., 0.]])"
            ]
          },
          "metadata": {},
          "execution_count": 23
        }
      ]
    },
    {
      "cell_type": "code",
      "source": [
        "# returns a 4x4 matric of 1s\n",
        "np.ones((4,4))"
      ],
      "metadata": {
        "colab": {
          "base_uri": "https://localhost:8080/"
        },
        "id": "bog-9I9-z-C1",
        "outputId": "4650be46-1b93-4c49-8874-eab2657672b8"
      },
      "execution_count": null,
      "outputs": [
        {
          "output_type": "execute_result",
          "data": {
            "text/plain": [
              "array([[1., 1., 1., 1.],\n",
              "       [1., 1., 1., 1.],\n",
              "       [1., 1., 1., 1.],\n",
              "       [1., 1., 1., 1.]])"
            ]
          },
          "metadata": {},
          "execution_count": 24
        }
      ]
    },
    {
      "cell_type": "code",
      "source": [
        "# returns 3 evenly spaced numbers(0, 5, 10)\n",
        "np.linspace(0, 10, 3)"
      ],
      "metadata": {
        "colab": {
          "base_uri": "https://localhost:8080/"
        },
        "id": "FQSB8AjY0E1t",
        "outputId": "165d8859-7a63-4238-b58f-6aee7eedd2e8"
      },
      "execution_count": null,
      "outputs": [
        {
          "output_type": "execute_result",
          "data": {
            "text/plain": [
              "array([ 0.,  5., 10.])"
            ]
          },
          "metadata": {},
          "execution_count": 25
        }
      ]
    },
    {
      "cell_type": "code",
      "source": [
        "# returns 20 evenly spaced numbers\n",
        "np.linspace(0, 10, 20)"
      ],
      "metadata": {
        "colab": {
          "base_uri": "https://localhost:8080/"
        },
        "id": "y33-WzoS0Yb2",
        "outputId": "71eb0152-ac63-4686-9824-1b644dc8b38c"
      },
      "execution_count": null,
      "outputs": [
        {
          "output_type": "execute_result",
          "data": {
            "text/plain": [
              "array([ 0.        ,  0.52631579,  1.05263158,  1.57894737,  2.10526316,\n",
              "        2.63157895,  3.15789474,  3.68421053,  4.21052632,  4.73684211,\n",
              "        5.26315789,  5.78947368,  6.31578947,  6.84210526,  7.36842105,\n",
              "        7.89473684,  8.42105263,  8.94736842,  9.47368421, 10.        ])"
            ]
          },
          "metadata": {},
          "execution_count": 26
        }
      ]
    },
    {
      "cell_type": "code",
      "source": [
        "# returns a 5x5 matrix with 1s arranged in a diagonal\n",
        "np.eye(5)"
      ],
      "metadata": {
        "colab": {
          "base_uri": "https://localhost:8080/"
        },
        "id": "2cxR4CeL0m4V",
        "outputId": "1eb12061-d5e7-4ee1-c4f8-8383d2d77a04"
      },
      "execution_count": null,
      "outputs": [
        {
          "output_type": "execute_result",
          "data": {
            "text/plain": [
              "array([[1., 0., 0., 0., 0.],\n",
              "       [0., 1., 0., 0., 0.],\n",
              "       [0., 0., 1., 0., 0.],\n",
              "       [0., 0., 0., 1., 0.],\n",
              "       [0., 0., 0., 0., 1.]])"
            ]
          },
          "metadata": {},
          "execution_count": 27
        }
      ]
    },
    {
      "cell_type": "code",
      "source": [
        "# returns 2 number random from 0 to 1\n",
        "np.random.rand(2)"
      ],
      "metadata": {
        "colab": {
          "base_uri": "https://localhost:8080/"
        },
        "id": "phdP9-ZB0x_N",
        "outputId": "f7efa624-8810-4852-8262-fc2c62e5182f"
      },
      "execution_count": null,
      "outputs": [
        {
          "output_type": "execute_result",
          "data": {
            "text/plain": [
              "array([0.5337313 , 0.98263387])"
            ]
          },
          "metadata": {},
          "execution_count": 28
        }
      ]
    },
    {
      "cell_type": "code",
      "source": [
        "# returns a 3x4 matrix of random numbers from 0 to 1\n",
        "np.random.rand(3, 4)"
      ],
      "metadata": {
        "colab": {
          "base_uri": "https://localhost:8080/"
        },
        "id": "_MunWYFH1LAL",
        "outputId": "2b70afbc-3cdf-4602-ee70-e358125925a0"
      },
      "execution_count": null,
      "outputs": [
        {
          "output_type": "execute_result",
          "data": {
            "text/plain": [
              "array([[0.13798772, 0.61905615, 0.76888912, 0.98783183],\n",
              "       [0.29494792, 0.36780839, 0.62689853, 0.86176113],\n",
              "       [0.74686255, 0.60535052, 0.28991008, 0.66769376]])"
            ]
          },
          "metadata": {},
          "execution_count": 29
        }
      ]
    },
    {
      "cell_type": "code",
      "source": [
        "# returns a 5x5 matrix of random numbers from a standard distribution where the mean is 0 and the variance is 1\n",
        "np.random.randn(5,5)"
      ],
      "metadata": {
        "colab": {
          "base_uri": "https://localhost:8080/"
        },
        "id": "VT6pr4au1SHU",
        "outputId": "d0c80d32-6c26-4485-d5c0-5e42351f249f"
      },
      "execution_count": null,
      "outputs": [
        {
          "output_type": "execute_result",
          "data": {
            "text/plain": [
              "array([[-1.74249128, -1.24491831,  2.02908727,  0.46791539, -0.67257183],\n",
              "       [ 0.48104401, -0.0137386 , -0.59940423, -1.15247487,  1.426762  ],\n",
              "       [ 1.54234977,  0.12071245,  0.15064896,  1.04251357,  1.26218613],\n",
              "       [-0.12022364, -0.14440909,  1.00847839,  0.47670153, -0.53235504],\n",
              "       [ 0.26390073,  0.51717203, -0.9261499 , -0.83742994,  0.44727904]])"
            ]
          },
          "metadata": {},
          "execution_count": 42
        }
      ]
    },
    {
      "cell_type": "code",
      "source": [
        "# return a random number between 1 and 100\n",
        "np.random.randint(1, 100)"
      ],
      "metadata": {
        "colab": {
          "base_uri": "https://localhost:8080/"
        },
        "id": "BJXpg8aS1jpT",
        "outputId": "3cf5ecc4-9be1-4961-a5f7-cbe885a9e635"
      },
      "execution_count": null,
      "outputs": [
        {
          "output_type": "execute_result",
          "data": {
            "text/plain": [
              "14"
            ]
          },
          "metadata": {},
          "execution_count": 45
        }
      ]
    },
    {
      "cell_type": "code",
      "source": [
        "# returns 10 random numbers between 1 and 100\n",
        "np.random.randint(1, 100, 10)"
      ],
      "metadata": {
        "colab": {
          "base_uri": "https://localhost:8080/"
        },
        "id": "WJMfPPjQ2l9P",
        "outputId": "aeda2465-87ef-456b-f92b-c847ae76876b"
      },
      "execution_count": null,
      "outputs": [
        {
          "output_type": "execute_result",
          "data": {
            "text/plain": [
              "array([99, 56, 64, 85, 74, 25, 86, 91, 31, 30])"
            ]
          },
          "metadata": {},
          "execution_count": 47
        }
      ]
    },
    {
      "cell_type": "code",
      "source": [
        "# returns 2x3 matrix of random numbers between 1 and 100\n",
        "np.random.randint(1, 100, (2,3))"
      ],
      "metadata": {
        "colab": {
          "base_uri": "https://localhost:8080/"
        },
        "id": "Zw4wa2Vc2mAV",
        "outputId": "c4d0efc5-b3f2-4ef7-8608-d61dade9f935"
      },
      "execution_count": null,
      "outputs": [
        {
          "output_type": "execute_result",
          "data": {
            "text/plain": [
              "array([[16, 54, 85],\n",
              "       [66, 79, 17]])"
            ]
          },
          "metadata": {},
          "execution_count": 48
        }
      ]
    },
    {
      "cell_type": "code",
      "source": [
        "# seed allows of the replication mof random values on different environments / devices\n",
        "# seed only applies to the next random generation\n",
        "np.random.seed(42)\n",
        "np.random.rand(4)\n"
      ],
      "metadata": {
        "colab": {
          "base_uri": "https://localhost:8080/"
        },
        "id": "8f-rFHTX4hVu",
        "outputId": "53eee441-0c84-42c9-e68c-9abf15f5f4dc"
      },
      "execution_count": null,
      "outputs": [
        {
          "output_type": "execute_result",
          "data": {
            "text/plain": [
              "array([0.37454012, 0.95071431, 0.73199394, 0.59865848])"
            ]
          },
          "metadata": {},
          "execution_count": 56
        }
      ]
    },
    {
      "cell_type": "code",
      "source": [
        "arr = np.arange(25)"
      ],
      "metadata": {
        "id": "sbUWTkhY4hqO"
      },
      "execution_count": null,
      "outputs": []
    },
    {
      "cell_type": "code",
      "source": [
        "ranarr = np.random.randint(0, 50, 10)"
      ],
      "metadata": {
        "id": "EzyUmOl54_hT"
      },
      "execution_count": null,
      "outputs": []
    },
    {
      "cell_type": "code",
      "source": [
        "arr"
      ],
      "metadata": {
        "colab": {
          "base_uri": "https://localhost:8080/"
        },
        "id": "zp9bT-2S5QNY",
        "outputId": "db740713-7d35-4d36-8b99-9b9159948f3c"
      },
      "execution_count": null,
      "outputs": [
        {
          "output_type": "execute_result",
          "data": {
            "text/plain": [
              "array([ 0,  1,  2,  3,  4,  5,  6,  7,  8,  9, 10, 11, 12, 13, 14, 15, 16,\n",
              "       17, 18, 19, 20, 21, 22, 23, 24])"
            ]
          },
          "metadata": {},
          "execution_count": 60
        }
      ]
    },
    {
      "cell_type": "code",
      "source": [
        "ranarr"
      ],
      "metadata": {
        "colab": {
          "base_uri": "https://localhost:8080/"
        },
        "id": "4N7AG5Oq5MyL",
        "outputId": "c7b82edc-cba6-4385-bd22-eb1f9a1081c0"
      },
      "execution_count": null,
      "outputs": [
        {
          "output_type": "execute_result",
          "data": {
            "text/plain": [
              "array([38, 18, 22, 10, 10, 23, 35, 39, 23,  2])"
            ]
          },
          "metadata": {},
          "execution_count": 61
        }
      ]
    },
    {
      "cell_type": "code",
      "source": [
        "# before reshape, the arr shape is (25,)\n",
        "arr.shape"
      ],
      "metadata": {
        "colab": {
          "base_uri": "https://localhost:8080/"
        },
        "id": "h3-A7ZPd5NJd",
        "outputId": "e6ee2320-38c0-492d-d743-7ebc81bac578"
      },
      "execution_count": null,
      "outputs": [
        {
          "output_type": "execute_result",
          "data": {
            "text/plain": [
              "(25,)"
            ]
          },
          "metadata": {},
          "execution_count": 62
        }
      ]
    },
    {
      "cell_type": "code",
      "source": [
        "# after reshape, the arr shape is now (5,5)\n",
        "# assign to arr to change the original array\n",
        "arr = arr.reshape(5, 5)"
      ],
      "metadata": {
        "id": "AGdS6y8u5NYX"
      },
      "execution_count": null,
      "outputs": []
    },
    {
      "cell_type": "code",
      "source": [
        "# arr shape is now (5,5)\n",
        "arr.shape"
      ],
      "metadata": {
        "colab": {
          "base_uri": "https://localhost:8080/"
        },
        "id": "6Vcj9z-45NkL",
        "outputId": "62c73734-9497-42a0-a0d0-31c4a1680773"
      },
      "execution_count": null,
      "outputs": [
        {
          "output_type": "execute_result",
          "data": {
            "text/plain": [
              "(5, 5)"
            ]
          },
          "metadata": {},
          "execution_count": 69
        }
      ]
    },
    {
      "cell_type": "code",
      "source": [
        "# This returns an error because arr has 25 elements and 3x6 only has space for 18 elements.\n",
        "arr.reshape(3,6)"
      ],
      "metadata": {
        "colab": {
          "base_uri": "https://localhost:8080/",
          "height": 176
        },
        "id": "9VgjH5V_6WdP",
        "outputId": "198066e4-4c4c-4ca3-aa6e-54530f2fdca7"
      },
      "execution_count": null,
      "outputs": [
        {
          "output_type": "error",
          "ename": "ValueError",
          "evalue": "ignored",
          "traceback": [
            "\u001b[0;31m---------------------------------------------------------------------------\u001b[0m",
            "\u001b[0;31mValueError\u001b[0m                                Traceback (most recent call last)",
            "\u001b[0;32m<ipython-input-70-44e958daa3c4>\u001b[0m in \u001b[0;36m<cell line: 1>\u001b[0;34m()\u001b[0m\n\u001b[0;32m----> 1\u001b[0;31m \u001b[0marr\u001b[0m\u001b[0;34m.\u001b[0m\u001b[0mreshape\u001b[0m\u001b[0;34m(\u001b[0m\u001b[0;36m3\u001b[0m\u001b[0;34m,\u001b[0m\u001b[0;36m6\u001b[0m\u001b[0;34m)\u001b[0m\u001b[0;34m\u001b[0m\u001b[0;34m\u001b[0m\u001b[0m\n\u001b[0m",
            "\u001b[0;31mValueError\u001b[0m: cannot reshape array of size 25 into shape (3,6)"
          ]
        }
      ]
    },
    {
      "cell_type": "code",
      "source": [
        "# returns the highest value in the array\n",
        "ranarr.max();"
      ],
      "metadata": {
        "id": "ULO0k97-6V9d"
      },
      "execution_count": null,
      "outputs": []
    },
    {
      "cell_type": "code",
      "source": [
        "# returns the index of the highest value\n",
        "ranarr.argmax();"
      ],
      "metadata": {
        "id": "5Z8WjnL06rzd"
      },
      "execution_count": null,
      "outputs": []
    },
    {
      "cell_type": "code",
      "source": [
        "# returns the lowest value in the array\n",
        "ranarr.min();"
      ],
      "metadata": {
        "id": "5_97PrmO6r_O"
      },
      "execution_count": null,
      "outputs": []
    },
    {
      "cell_type": "code",
      "source": [
        "# returns the index of the highest value\n",
        "ranarr.argmin();"
      ],
      "metadata": {
        "id": "UKk5iB8G6sNz"
      },
      "execution_count": null,
      "outputs": []
    },
    {
      "cell_type": "code",
      "source": [
        "# returns the data type of the array\n",
        "ranarr.dtype"
      ],
      "metadata": {
        "colab": {
          "base_uri": "https://localhost:8080/"
        },
        "id": "bt129aPF6sUq",
        "outputId": "1b7a0b85-04d1-44f6-bf9f-f7223f80c8ca"
      },
      "execution_count": null,
      "outputs": [
        {
          "output_type": "execute_result",
          "data": {
            "text/plain": [
              "dtype('int64')"
            ]
          },
          "metadata": {},
          "execution_count": 73
        }
      ]
    },
    {
      "cell_type": "code",
      "source": [
        "myarr = np.random.rand(4)"
      ],
      "metadata": {
        "id": "2jdB31Yu7cna"
      },
      "execution_count": null,
      "outputs": []
    },
    {
      "cell_type": "code",
      "source": [
        "myarr"
      ],
      "metadata": {
        "colab": {
          "base_uri": "https://localhost:8080/"
        },
        "id": "jwhwxz0i7bZS",
        "outputId": "a7f35d34-4801-41dd-9cc2-e636f47c4c95"
      },
      "execution_count": null,
      "outputs": [
        {
          "output_type": "execute_result",
          "data": {
            "text/plain": [
              "array([0.02058449, 0.96990985, 0.83244264, 0.21233911])"
            ]
          },
          "metadata": {},
          "execution_count": 80
        }
      ]
    },
    {
      "cell_type": "code",
      "source": [
        "myarr.dtype"
      ],
      "metadata": {
        "colab": {
          "base_uri": "https://localhost:8080/"
        },
        "id": "Inb0KgUY7bi9",
        "outputId": "e58f5d59-cca8-4c9a-efe5-35f4b1fc1386"
      },
      "execution_count": null,
      "outputs": [
        {
          "output_type": "execute_result",
          "data": {
            "text/plain": [
              "dtype('float64')"
            ]
          },
          "metadata": {},
          "execution_count": 79
        }
      ]
    }
  ]
}